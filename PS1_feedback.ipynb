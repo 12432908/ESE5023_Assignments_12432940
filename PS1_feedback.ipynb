{
 "cells": [
  {
   "cell_type": "markdown",
   "id": "67fbb6c3-9d7b-497d-8277-4ac8ef09c6fc",
   "metadata": {},
   "source": [
    "### 这个单元格给助教，请忽略!\n",
    "\n",
    "### Score: 108\n",
    "\n",
    "### Comment:\n",
    "Q1.[9]函数逻辑有误\n",
    "\n",
    "Q2.[11]Good job!\n",
    "\n",
    "Q3.[16.5+5.5]Good job!\n",
    "\n",
    "Q4.[5.5+16.5+5.5]Good job!\n",
    "\n",
    "Q5.[5.5+27.5+5.5]Good job!\n",
    "\n",
    "\n",
    "请实现每个 function 内容，确保最终提交的notebook是可以运行的。\n",
    "\n",
    "每一题除了必须要报告的 输出/图表，可以添加解释（中文即可）。此外可以自定义其他 function / 变量，自由添加单元格，但请确保题目中给出的 function （如第一题的 Print_values）可以正常调用。"
   ]
  },
  {
   "cell_type": "code",
   "execution_count": 3,
   "id": "ebace89b-8d0f-4896-823e-07791148f5b6",
   "metadata": {},
   "outputs": [],
   "source": [
    "#Import the modules used in the following questions\n",
    "import math\n",
    "import array\n",
    "import random\n",
    "import numpy as np\n",
    "import matplotlib.pyplot as plt"
   ]
  },
  {
   "cell_type": "code",
   "execution_count": 7,
   "id": "546362ef-0b87-4f8b-9c92-bd8a119c0dfe",
   "metadata": {},
   "outputs": [
    {
     "name": "stdout",
     "output_type": "stream",
     "text": [
      "[10, 5, 1]\n",
      "[10, 5, 1]\n",
      "5\n"
     ]
    }
   ],
   "source": [
    "# Assignment 1.1: Flowchart\n",
    "# Define a funtion called Print_values\n",
    "def Print_values(a,b,c):\n",
    "    # Define a list\n",
    "    x = a\n",
    "    y = b\n",
    "    z = c\n",
    "    list_1 = [x,y,z]\n",
    "    #Print the origin list\n",
    "    print(list_1)\n",
    "    # Check the first condition \n",
    "    if a >= b:  # NOTE: 注意看流程图，等于应为False -1\n",
    "        # If ture, check the next condition \n",
    "        if b >= c:\n",
    "        # If ture again, fill the list \n",
    "            x = a\n",
    "            y = b\n",
    "            z = c\n",
    "        # If false in the second condition, check the third condition \n",
    "        elif a >= c:\n",
    "        # If ture, fill the list \n",
    "            x = a\n",
    "            y = c\n",
    "            z = b\n",
    "        # If false again, fill the list \n",
    "        else:\n",
    "            x = c\n",
    "            y = a\n",
    "            z = b\n",
    "    # If false in the first condition, check the second condition\n",
    "    elif b >= c:\n",
    "        # If true, we can know the maxinum, check the third condition\n",
    "        x = b\n",
    "        if a >= c:\n",
    "            # If ture, fill the list\n",
    "            y = a\n",
    "            z = c\n",
    "        else:\n",
    "            # If false, fill the list\n",
    "            y = c\n",
    "            z = a\n",
    "    # If false in both the first and the second condition, fill the list\n",
    "    else:\n",
    "        x = c\n",
    "        y = b\n",
    "        z = a\n",
    "    list_1 = [x,y,z]\n",
    "    # Print the organized list\n",
    "    print(list_1)\n",
    "    # Print the calculation result\n",
    "    print(x+y-10*z)\n",
    "    \n",
    "#Test the funtion with different types of values\n",
    "# Print_values(random.random(), random.random(), random.random())\n",
    "# Print_values(random.randint(-20,0), random.randint(-20,0), random.randint(-20,0))\n",
    "# Print_values(random.randint(0,100), random.randint(0,100), random.randint(0,100))\n",
    "\n",
    "#Test the funtion with the values given in the problem\n",
    "Print_values(10,5,1)      "
   ]
  },
  {
   "cell_type": "code",
   "execution_count": 11,
   "id": "9293cfd0-f1ab-481d-967a-8a960b18bbb7",
   "metadata": {},
   "outputs": [
    {
     "name": "stdout",
     "output_type": "stream",
     "text": [
      "[15, 23, 143, 33]\n",
      "[15, 23, 'NA', 33]\n",
      "[15, 'NA', 'NA', 33]\n",
      "[1, 5, 7, 13, 15, 305]\n"
     ]
    }
   ],
   "source": [
    "# Assignment 1.2: Continuous ceiling function\n",
    "# Define a funtion called Continuous_ceiling for a list\n",
    "def Continuous_ceiling(list):\n",
    "    # Define an inner funtion called C_c for a value\n",
    "    def C_c(x):\n",
    "        # Check the condition and calculate\n",
    "        if x != 1:\n",
    "            y = C_c(math.ceil(x/3)) + 2*x\n",
    "            return(y)\n",
    "        # If false,return the origin value\n",
    "        else:\n",
    "            y = 1\n",
    "            return(y) \n",
    "    # Make a new list\n",
    "    new_list=[]\n",
    "    # Begin the for loop\n",
    "    for i in list:\n",
    "        # Check if i is suitable to calculate\n",
    "        if type(i) == int and i > 0:\n",
    "            # Calculate the result of C_c\n",
    "            new_i = C_c(i)\n",
    "            # Add the calculation result to the new list\n",
    "            new_list.append(new_i)\n",
    "        # Report the error\n",
    "        else:\n",
    "            new_list.append('NA')        \n",
    "    print(new_list)\n",
    "#Test the funtion\n",
    "list_2_1 = [5,8,47,10]\n",
    "Continuous_ceiling(list_2_1)\n",
    "list_2_2 = [5,8,-47,10]\n",
    "Continuous_ceiling(list_2_2)\n",
    "list_2_3 = [5,3.0,7.9,10]\n",
    "Continuous_ceiling(list_2_3)\n",
    "list_2_4 = [1, 2, 3, 4, 5, 100] \n",
    "Continuous_ceiling(list_2_4)"
   ]
  },
  {
   "cell_type": "code",
   "execution_count": 17,
   "id": "e62e2692-ea9f-4f2a-a75c-e22f21aaf054",
   "metadata": {},
   "outputs": [
    {
     "name": "stdout",
     "output_type": "stream",
     "text": [
      "1\n",
      "Stop cheating in dice rolling! \n",
      "Stop cheating in dice rolling! \n",
      "Stop cheating in dice rolling! \n"
     ]
    }
   ],
   "source": [
    "# Assignment 1.3: Dice rolling\n",
    "# Assignment 1.3.1: Find_number_of_ways\n",
    "# Make a condition to control printing within the function\n",
    "print_result = True\n",
    "# Define a funtion called Continuous_ceiling\n",
    "def Find_number_of_ways(i):\n",
    "    # Make the variables for the result of dice rolls\n",
    "    A=B=C=D=E=F=0\n",
    "    # Make a list to store the valid combinations\n",
    "    my_list=[A,B,C,D,E,F]\n",
    "    # Make a list to store the sum of dice rolls\n",
    "    list_of_sum = []\n",
    "    # Go through all the possible outcomes for the combination\n",
    "    for a in range(0,11):\n",
    "        A = a\n",
    "        my_list[0] = A\n",
    "        for b in range(0,11-A):\n",
    "            B = b\n",
    "            my_list[1] = B\n",
    "            for c in range(0,11-A-B):\n",
    "                C = c\n",
    "                my_list[2] = C\n",
    "                for d in range(0,11-A-B-C):\n",
    "                    D = d\n",
    "                    my_list[3] = D\n",
    "                    for e in range(0,11-A-B-C-D):\n",
    "                        E = e\n",
    "                        my_list[4] = E\n",
    "                        for f in range(0,11-A-B-C-D-E):\n",
    "                            F = f\n",
    "                            my_list[5] = F\n",
    "                            # Check if the sum of the current combination equals 10\n",
    "                            if sum(my_list) == 10:\n",
    "                                # Calculate the sum\n",
    "                                list_of_sum.append(1*A+2*B+3*C+4*D+5*E+6*F)\n",
    "                            else:\n",
    "                                continue\n",
    "    # Check if the result should be outputted\n",
    "    if print_result:\n",
    "        # Check if the input is suitable to calculate\n",
    "        if i >= 10 and i <= 60 and type(i) == int:\n",
    "            print(list_of_sum.count(i))\n",
    "        else:\n",
    "            print(\"Stop cheating in dice rolling! \")\n",
    "    else:\n",
    "        return(list_of_sum.count(i))\n",
    "\n",
    "#Test the funtion with different value\n",
    "Find_number_of_ways(60)\n",
    "Find_number_of_ways(6)\n",
    "Find_number_of_ways(67)\n",
    "Find_number_of_ways(40.5)\n"
   ]
  },
  {
   "cell_type": "code",
   "execution_count": 19,
   "id": "2f0a7f65-7484-4473-89f3-8c24f7950e7f",
   "metadata": {},
   "outputs": [
    {
     "name": "stdout",
     "output_type": "stream",
     "text": [
      "[34, 35, 36]\n"
     ]
    }
   ],
   "source": [
    "# Assignment 1.3.2: The maximum of Number_of_ways\n",
    "# Make a list to store the number of ways for each sum from 10 to 60\n",
    "Number_of_ways = []\n",
    "# Go through all possible sums\n",
    "for i in range(10,61):\n",
    "    # Avoid printing in the loop\n",
    "    print_result = False\n",
    "    number_of_ways = Find_number_of_ways(i)\n",
    "    Number_of_ways.append(number_of_ways)\n",
    "# print(Number_of_ways)\n",
    "# Find the maximum number of ways\n",
    "max_value = max(Number_of_ways)\n",
    "# Make a list to store the result\n",
    "the_x_yields_the_maximum = []\n",
    "# Go through all possible maximum\n",
    "for index in range(len(Number_of_ways)):\n",
    "    if Number_of_ways[index] == max_value:\n",
    "        # Calculate the mode of sum\n",
    "        the_x_yields_the_maximum.append(index+10)  \n",
    "print(the_x_yields_the_maximum)"
   ]
  },
  {
   "cell_type": "code",
   "execution_count": 35,
   "id": "c8dcd30c-a872-4953-95c9-d9c646aca9f6",
   "metadata": {},
   "outputs": [
    {
     "name": "stdout",
     "output_type": "stream",
     "text": [
      "array('i', [5, 0, 6, 10, 2])\n"
     ]
    }
   ],
   "source": [
    "# Assignment 1.4: Dynamic programming\n",
    "\n",
    "# Assignment 1.4.1: function Random_integer\n",
    "# Define a funtion called Random_integer\n",
    "def Random_integer(N):\n",
    "    # Make a list to store the elements\n",
    "    list_4_1=[]\n",
    "    # Check if there exist enough elements in the list\n",
    "    while len(list_4_1)!=N:\n",
    "        # Add elements to the list\n",
    "        list_4_1.append(random.randint(0,10))\n",
    "    else:\n",
    "        # Turn the list into array\n",
    "        int_array=array.array('i',list_4_1)\n",
    "        return(int_array)\n",
    "        \n",
    "# Test the function\n",
    "arr_test = Random_integer(5)\n",
    "print(arr_test)\n"
   ]
  },
  {
   "cell_type": "code",
   "execution_count": 37,
   "id": "f8340da8-204e-4b48-bcf5-aab957a24358",
   "metadata": {},
   "outputs": [
    {
     "name": "stdout",
     "output_type": "stream",
     "text": [
      "14.0\n"
     ]
    }
   ],
   "source": [
    "# Assignment 1.4.2: function Sum_averages\n",
    "# Define a funtion to calculate the combine\n",
    "def combine(a,A):\n",
    "    if A != 0:\n",
    "        com = math.factorial(A)/(math.factorial(a)*math.factorial(A-a))\n",
    "    else:\n",
    "        com = 1\n",
    "    return(com)\n",
    "\n",
    "# Define a funtion to calculate the ratio\n",
    "def element_average_ratio(N):\n",
    "    list_ratio = []\n",
    "    for i in range(1,N+1):\n",
    "        list_ratio.append(combine(i-1,N-1)/i)\n",
    "    #print(list_ratio)\n",
    "    return(sum(list_ratio))\n",
    "    \n",
    "# Define a funtion to calculate the sum of all the subsets' sum\n",
    "def Sum_averages(array_input):\n",
    "    N = len(array_input)\n",
    "    sum_average = element_average_ratio(N)*sum(array_input)\n",
    "    return(sum_average)\n",
    "    \n",
    "# Test the function\n",
    "arr_test = [1,2,3]\n",
    "result_Sum_averages = Sum_averages(arr_test)\n",
    "print(result_Sum_averages)\n"
   ]
  },
  {
   "cell_type": "code",
   "execution_count": 20,
   "id": "5118f267-877a-48e1-9c45-f07b85cc9b37",
   "metadata": {},
   "outputs": [
    {
     "name": "stdout",
     "output_type": "stream",
     "text": [
      "array('i', [2, 7, 7, 10, 5])\n",
      "21.0\n"
     ]
    },
    {
     "data": {
      "image/png": "[encoded data removed]",
      "text/plain": [
       "<Figure size 640x480 with 1 Axes>"
      ]
     },
     "metadata": {},
     "output_type": "display_data"
    }
   ],
   "source": [
    "# Assignment 1.4.3: Total_sum_averages\n",
    "# Make a list to store the sum\n",
    "Total_sum_averages = []\n",
    "for N in range(1,101):\n",
    "    Total_sum_averages.append(Sum_averages(Random_integer(N)))\n",
    "#print(Total_sum_averages)\n",
    "\n",
    "# Plot all the sum\n",
    "plt.plot(Total_sum_averages)\n",
    "plt.xlabel('N')\n",
    "plt.ylabel('Sum of Averages')\n",
    "plt.title('Sum of Averages for Subsets as N Increases')\n",
    "# plt.yscale('log')\n",
    "plt.show()   "
   ]
  },
  {
   "cell_type": "code",
   "execution_count": 49,
   "id": "7861f086-3e92-4d36-9474-ad4896ca8434",
   "metadata": {},
   "outputs": [
    {
     "name": "stdout",
     "output_type": "stream",
     "text": [
      "[[1 1 0 0 1 0 1 1 1 1]\n",
      " [0 1 1 0 0 0 1 1 1 0]\n",
      " [0 1 0 0 1 0 0 1 1 0]\n",
      " [1 0 1 0 0 0 1 0 1 0]\n",
      " [1 0 1 0 1 1 0 1 1 0]\n",
      " [0 1 1 0 0 1 0 0 1 1]\n",
      " [0 1 1 1 0 1 0 0 1 0]\n",
      " [0 0 0 1 0 1 0 0 0 1]]\n"
     ]
    }
   ],
   "source": [
    "# Assignment 1.5: Path counting\n",
    "\n",
    "# Assignment 1.5.1: Matrix creating\n",
    "# Define a function to create a matrix\n",
    "def creat_matrix(N,M):\n",
    "    # Make an empty array to store the number\n",
    "    arr_matrix=np.empty((N,M),dtype=int)\n",
    "    # Randomly fill the whole array with 0 or 1\n",
    "    for n in range(0,N):\n",
    "        for m in range(0,M):\n",
    "            arr_matrix[n,m] = random.randint(0,1)\n",
    "    # Fill the right-bottom corner and top-left corner cells with 1\n",
    "    arr_matrix[0,0] = 1\n",
    "    arr_matrix[N-1,M-1] = 1\n",
    "    return(arr_matrix)\n",
    "\n",
    "# Test the function\n",
    "matrix_test = creat_matrix(8,10)\n",
    "print(matrix_test)"
   ]
  },
  {
   "cell_type": "code",
   "execution_count": 71,
   "id": "9d7db683-60a0-414f-bcde-0481d8f4bc4b",
   "metadata": {},
   "outputs": [
    {
     "name": "stdout",
     "output_type": "stream",
     "text": [
      "[[1 1 1 1 1]\n",
      " [0 1 0 1 0]\n",
      " [1 0 1 1 1]\n",
      " [1 1 1 1 1]]\n",
      "2\n"
     ]
    }
   ],
   "source": [
    "# Assignment 1.5.2: Path counting\n",
    "def path_counting(array_input):\n",
    "    # Obtain the size of matrix\n",
    "    N = len(array_input)\n",
    "    M = len(array_input[0])\n",
    "    # Make an empty array to store the path\n",
    "    arr_path=np.empty((N,M),dtype=int)\n",
    "    # Fill the top-left corner with 1\n",
    "    arr_path[0,0] = 1\n",
    "\n",
    "    # Fill the 1st list\n",
    "    for n in range(1,N):\n",
    "        #print([n,0])\n",
    "        if array_input[n,0] == 0 or arr_path[n-1,0] == 0:\n",
    "            arr_path[n,0] = 0\n",
    "            #print(arr_path[n,0])\n",
    "        else:\n",
    "            arr_path[n,0] = 1\n",
    "            #print(arr_path[n,0])\n",
    "\n",
    "    # Fill the 1st row\n",
    "    for m in range(1,M):\n",
    "        #print([0,m])\n",
    "        if array_input[0,m] == 0 or arr_path[0,m-1] == 0:\n",
    "            arr_path[0,m] = 0\n",
    "            #print(arr_path[0,m])\n",
    "        else:\n",
    "            arr_path[0,m] = 1\n",
    "            #print(arr_path[0,m])\n",
    "\n",
    "    # Fill the left cells\n",
    "    for n in range(1,N):\n",
    "        for m in range(1,M):\n",
    "            #print([n,m])\n",
    "            if array_input[n,m] == 0:\n",
    "                arr_path[n,m] = 0\n",
    "                #print(arr_path[n,m])\n",
    "            else:\n",
    "                arr_path[n,m] = arr_path[n-1,m] + arr_path[n,m-1]\n",
    "                #print(arr_path[n,m])\n",
    "    \n",
    "    # Obtain the number of path\n",
    "    return(arr_path[N-1,M-1])\n",
    "    #return(arr_path)\n",
    "\n",
    "# Test the function\n",
    "arr_test = creat_matrix(4,5)\n",
    "print(arr_test)\n",
    "arr_path_test = path_counting(arr_test)\n",
    "print(arr_path_test)\n",
    "          "
   ]
  },
  {
   "cell_type": "code",
   "execution_count": 109,
   "id": "8cd0caac-67b0-4f15-a7f6-4b9675e56da9",
   "metadata": {},
   "outputs": [
    {
     "name": "stdout",
     "output_type": "stream",
     "text": [
      "0.222\n",
      "978\n"
     ]
    }
   ],
   "source": [
    "# Assignment 1.5.3: 1000 runs\n",
    "list_total=[]\n",
    "for i in range(0,1000):\n",
    "    list_total.append(path_counting(creat_matrix(8,10)))\n",
    "print(sum(list_total)/len(list_total))\n",
    "print(list_total.count(0))\n",
    "#print(list_total)\n",
    "#plt.scatter(range(0,1000),list_total)\n",
    "#plt.show()"
   ]
  },
  {
   "cell_type": "code",
   "execution_count": null,
   "id": "9783e308-cd79-4601-b68d-4c3d120cf318",
   "metadata": {},
   "outputs": [],
   "source": []
  }
 ],
 "metadata": {
  "kernelspec": {
   "display_name": "Python 3 (ipykernel)",
   "language": "python",
   "name": "python3"
  },
  "language_info": {
   "codemirror_mode": {
    "name": "ipython",
    "version": 3
   },
   "file_extension": ".py",
   "mimetype": "text/x-python",
   "name": "python",
   "nbconvert_exporter": "python",
   "pygments_lexer": "ipython3",
   "version": "3.12.7"
  }
 },
 "nbformat": 4,
 "nbformat_minor": 5
}
